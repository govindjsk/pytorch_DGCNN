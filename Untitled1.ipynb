{
 "cells": [
  {
   "cell_type": "code",
   "execution_count": 10,
   "metadata": {},
   "outputs": [
    {
     "data": {
      "text/plain": [
       "((2, 3), (6, 7), (3, 7))"
      ]
     },
     "execution_count": 10,
     "metadata": {},
     "output_type": "execute_result"
    }
   ],
   "source": [
    "from scipy.sparse import csr_matrix, hstack, vstack, random\n",
    "S = random(2, 3, density=0.5)\n",
    "S_ = random(6, 7, density=0.5)\n",
    "B = random(3, 7, density=0.5)\n",
    "S.shape, S_.shape, B.shape"
   ]
  },
  {
   "cell_type": "code",
   "execution_count": 34,
   "metadata": {},
   "outputs": [],
   "source": [
    "def get_Z(n_rows, n_cols):\n",
    "    return csr_matrix(([], ([], [])), shape=(n_rows, n_cols))\n",
    "\n",
    "def stack_quadrant(tl, tr, bl, br):\n",
    "    if (tl is None and tr is None) or (bl is None and br is None) or \\\n",
    "       (tl is None and bl is None) or (tr is None and br is None):\n",
    "        print('Warning: Unstackable! Size of zero matrices not known.')\n",
    "        return None\n",
    "    if tl is None:\n",
    "        tl = get_Z(tr.shape[0], bl.shape[1])\n",
    "    if tr is None:\n",
    "        tr = get_Z(tl.shape[0], br.shape[1])\n",
    "    if bl is None:\n",
    "        bl = get_Z(br.shape[0], tl.shape[1])\n",
    "    if br is None:\n",
    "        br = get_Z(bl.shape[0], tr.shape[1])\n",
    "#     print(tl, tr, bl, br)\n",
    "    l = vstack([tl, bl])\n",
    "    r = vstack([tr, br])\n",
    "    return hstack([l, r])\n",
    "\n",
    "tl = stack_quadrant(S_, None, B, S.T)\n",
    "br = tl.T\n",
    "merged = stack_quadrant(tl, None, None, br)"
   ]
  },
  {
   "cell_type": "code",
   "execution_count": 38,
   "metadata": {},
   "outputs": [
    {
     "data": {
      "text/plain": [
       "<24x24 sparse matrix of type '<class 'numpy.float64'>'\n",
       "\twith 80 stored elements in Compressed Sparse Row format>"
      ]
     },
     "execution_count": 38,
     "metadata": {},
     "output_type": "execute_result"
    }
   ],
   "source": [
    "(merged.tocsr())"
   ]
  },
  {
   "cell_type": "code",
   "execution_count": null,
   "metadata": {},
   "outputs": [],
   "source": []
  },
  {
   "cell_type": "code",
   "execution_count": 28,
   "metadata": {},
   "outputs": [],
   "source": [
    "import pandas as pd\n",
    "import os\n",
    "def load_bipartite_hypergraph(data_params):\n",
    "    id_p_map = pd.read_csv(os.path.join(data_params['home_path'], data_params['r_label_file']), sep='\\t', header=None)\n",
    "    id_a_map = pd.read_csv(os.path.join(data_params['home_path'], data_params['u_label_file']), sep='\\t', header=None)\n",
    "    id_a_map = dict(zip(id_a_map[0], id_a_map[1]))\n",
    "    id_k_map = pd.read_csv(os.path.join(data_params['home_path'], data_params['v_label_file']), sep='\\t', header=None)\n",
    "    id_k_map = dict(zip(id_k_map[0], id_k_map[1]))\n",
    "    p_a_list_map = pd.read_csv(os.path.join(data_params['home_path'], data_params['r_u_list_file']), sep=':', header=None)\n",
    "    p_k_list_map = pd.read_csv(os.path.join(data_params['home_path'], data_params['r_v_list_file']), sep=':', header=None)\n",
    "    n_p, na, nk = len(id_p_map), len(id_a_map), len(id_k_map)\n",
    "    pos_A = list(map(lambda x: list(map(int, x.split(','))), p_a_list_map[1]))\n",
    "    pos_B = list(map(lambda x: list(map(int, x.split(','))), p_k_list_map[1]))    \n",
    "    # I, J, V: row, col, value of author-hypergraph\n",
    "    # I_, J_, V_: row, col, value of keyword-hypergraph\n",
    "    # I_B, J_B, V_B: row, col, value of author_hyperedge-keyword_hyperedge link\n",
    "    I=[]\n",
    "    J=[]\n",
    "    V=[]\n",
    "    I_=[]\n",
    "    J_=[]\n",
    "    V_=[]\n",
    "\n",
    "    I_B=[]\n",
    "    J_B=[]\n",
    "    V_B=[]\n",
    "    U_set=set()\n",
    "    V_set=set()\n",
    "    u_map={}\n",
    "    v_map={}\n",
    "    j_u=-1\n",
    "    j_v=-1\n",
    "    for u,v in zip(pos_A,pos_B):\n",
    "        u=frozenset(u)\n",
    "        v=frozenset(v)\n",
    "\n",
    "        if u not in U_set:\n",
    "            j_u+=1\n",
    "            U_set.add(u)\n",
    "            u_map[u]=j_u\n",
    "            I.extend(list(u))\n",
    "            J.extend([j_u]*len(u))\n",
    "            V.extend([1]*len(u))\n",
    "        if v not in V_set:\n",
    "            j_v+=1\n",
    "            V_set.add(v)\n",
    "            v_map[v]=j_v\n",
    "            I_.extend(list(v))\n",
    "            J_.extend([j_v]*len(v))\n",
    "            V_.extend([1]*len(v))\n",
    "\n",
    "        I_B.append(u_map[u])\n",
    "        J_B.append(v_map[v])\n",
    "        V_B.append(1)\n",
    "\n",
    "    n=max(I)+1\n",
    "    m=len(U_set)\n",
    "    n_=max(I_)+1\n",
    "    m_=len(V_set)\n",
    "    S = csr_matrix((V, (I, J)), shape=(n, m))\n",
    "    S_ = csr_matrix((V_, (I_, J_)), shape=(n_, m_))\n",
    "    B = csr_matrix((V_B, (I_B, J_B)), shape=(m, m_))    \n",
    "    return S,S_,B\n",
    "\n",
    "\n",
    "\n",
    "\n",
    "\n",
    "\n",
    "\n",
    "# home_path = '/content/drive/My Drive/projects/textual_analysis_email/'\n",
    "\n",
    "home_path = 'sample_data/'\n",
    "\n",
    "# sample_path = os.path.join(home_path, 'sample_data')\n",
    "\n",
    "data_params = {'home_path': home_path,\n",
    "               'r_label_file': 'id_p_map.txt',\n",
    "               'u_label_file': 'id_a_map.txt',\n",
    "               'v_label_file': 'id_k_map.txt',\n",
    "               'r_u_list_file': 'p_a_list_train.txt',\n",
    "               'r_v_list_file': 'p_k_list_train.txt',\n",
    "               'emb_pkl_file': 'nodevectors.pkl'}\n",
    "# methods = [commonneigh, admic_adar, jaccard]\n",
    "# method_name_map = dict(zip(methods, ['CN', 'AA', 'JC']))\n",
    "num_iter = 2\n",
    "\n",
    "S,S_,B = load_bipartite_hypergraph(data_params)"
   ]
  },
  {
   "cell_type": "code",
   "execution_count": 39,
   "metadata": {},
   "outputs": [
    {
     "data": {
      "text/plain": [
       "matrix([[1, 0, 1, 1, 0, 0, 0],\n",
       "        [1, 1, 0, 1, 1, 1, 0],\n",
       "        [1, 0, 0, 0, 0, 1, 1],\n",
       "        [0, 1, 1, 1, 0, 0, 0],\n",
       "        [0, 0, 1, 1, 1, 0, 1]], dtype=int64)"
      ]
     },
     "execution_count": 39,
     "metadata": {},
     "output_type": "execute_result"
    }
   ],
   "source": [
    "S.todense()"
   ]
  },
  {
   "cell_type": "code",
   "execution_count": 41,
   "metadata": {},
   "outputs": [
    {
     "data": {
      "text/plain": [
       "matrix([[0, 0, 1, 0, 0, 0],\n",
       "        [1, 0, 1, 1, 0, 1],\n",
       "        [1, 0, 0, 0, 0, 0],\n",
       "        [1, 0, 0, 0, 1, 1],\n",
       "        [0, 1, 0, 0, 0, 0],\n",
       "        [0, 1, 1, 0, 1, 1]], dtype=int64)"
      ]
     },
     "execution_count": 41,
     "metadata": {},
     "output_type": "execute_result"
    }
   ],
   "source": [
    "S_.todense()"
   ]
  },
  {
   "cell_type": "code",
   "execution_count": 45,
   "metadata": {},
   "outputs": [
    {
     "data": {
      "text/plain": [
       "matrix([[1, 0],\n",
       "        [0, 1],\n",
       "        [0, 0],\n",
       "        [0, 0],\n",
       "        [0, 0],\n",
       "        [0, 1],\n",
       "        [0, 0]], dtype=int64)"
      ]
     },
     "execution_count": 45,
     "metadata": {},
     "output_type": "execute_result"
    }
   ],
   "source": [
    "X = B[:, [0, 1]]\n",
    "X.todense()"
   ]
  },
  {
   "cell_type": "code",
   "execution_count": 52,
   "metadata": {},
   "outputs": [
    {
     "data": {
      "text/plain": [
       "matrix([[1, 0],\n",
       "        [0, 1],\n",
       "        [0, 1]], dtype=int64)"
      ]
     },
     "execution_count": 52,
     "metadata": {},
     "output_type": "execute_result"
    }
   ],
   "source": [
    "X[(X.sum(axis=1)!=0).nonzero()[0], :].todense()"
   ]
  },
  {
   "cell_type": "code",
   "execution_count": 64,
   "metadata": {},
   "outputs": [],
   "source": [
    "import scipy, torch"
   ]
  },
  {
   "cell_type": "code",
   "execution_count": 60,
   "metadata": {},
   "outputs": [],
   "source": [
    "home_path = 'sample_data/'\n",
    "# home_path = 'main_data/'\n",
    "\n",
    "data_params = {'home_path': home_path,\n",
    "               'r_label_file': 'id_p_map.txt',\n",
    "               'u_label_file': 'id_a_map.txt',\n",
    "               'v_label_file': 'id_k_map.txt',\n",
    "               'r_u_list_file': 'p_a_list_train.txt',\n",
    "               'r_v_list_file': 'p_k_list_train.txt',\n",
    "               'emb_pkl_file': 'nodevectors.pkl'}\n",
    "S,S_,B = load_bipartite_hypergraph(data_params)\n",
    "list_S = [S, S]\n",
    "list_S_ = [S_, S_]\n",
    "list_B = [B, B]"
   ]
  },
  {
   "cell_type": "code",
   "execution_count": 98,
   "metadata": {},
   "outputs": [
    {
     "data": {
      "text/plain": [
       "1"
      ]
     },
     "execution_count": 98,
     "metadata": {},
     "output_type": "execute_result"
    }
   ],
   "source": [
    "torch.cuda.device_count()"
   ]
  },
  {
   "cell_type": "code",
   "execution_count": 95,
   "metadata": {},
   "outputs": [
    {
     "data": {
      "text/plain": [
       "'/storage2/home2/e1-313-15477/swyam/SEAL/Python'"
      ]
     },
     "execution_count": 95,
     "metadata": {},
     "output_type": "execute_result"
    }
   ],
   "source": [
    "pwd"
   ]
  },
  {
   "cell_type": "code",
   "execution_count": 90,
   "metadata": {},
   "outputs": [
    {
     "data": {
      "text/plain": [
       "tensor([[1, 1, 1, 1, 1, 0, 0, 0, 0, 0],\n",
       "        [0, 0, 0, 0, 0, 1, 1, 1, 1, 1]])"
      ]
     },
     "execution_count": 90,
     "metadata": {},
     "output_type": "execute_result"
    }
   ],
   "source": [
    "subhg_sp_n.to_dense()"
   ]
  },
  {
   "cell_type": "code",
   "execution_count": 91,
   "metadata": {},
   "outputs": [
    {
     "data": {
      "text/plain": [
       "tensor([[1, 1, 1, 1, 1, 1, 0, 0, 0, 0, 0, 0],\n",
       "        [0, 0, 0, 0, 0, 0, 1, 1, 1, 1, 1, 1]])"
      ]
     },
     "execution_count": 91,
     "metadata": {},
     "output_type": "execute_result"
    }
   ],
   "source": [
    "subhg_sp_n_.to_dense()"
   ]
  },
  {
   "cell_type": "code",
   "execution_count": 94,
   "metadata": {},
   "outputs": [
    {
     "data": {
      "text/plain": [
       "tensor([[1, 1, 1, 1, 1, 1, 0, 0, 0, 0, 0, 0],\n",
       "        [0, 0, 0, 0, 0, 0, 1, 1, 1, 1, 1, 1]])"
      ]
     },
     "execution_count": 94,
     "metadata": {},
     "output_type": "execute_result"
    }
   ],
   "source": [
    "subhg_sp_m_.to_dense()"
   ]
  }
 ],
 "metadata": {
  "kernelspec": {
   "display_name": "Python [conda env:genv] *",
   "language": "python",
   "name": "conda-env-genv-py"
  },
  "language_info": {
   "codemirror_mode": {
    "name": "ipython",
    "version": 3
   },
   "file_extension": ".py",
   "mimetype": "text/x-python",
   "name": "python",
   "nbconvert_exporter": "python",
   "pygments_lexer": "ipython3",
   "version": "3.7.4"
  }
 },
 "nbformat": 4,
 "nbformat_minor": 2
}
